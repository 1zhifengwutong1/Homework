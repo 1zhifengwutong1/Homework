{
 "cells": [
  {
   "cell_type": "markdown",
   "metadata": {},
   "source": [
    "# ex1"
   ]
  },
  {
   "cell_type": "code",
   "execution_count": 1,
   "metadata": {},
   "outputs": [
    {
     "name": "stdout",
     "output_type": "stream",
     "text": [
      "I`m OK.\n"
     ]
    }
   ],
   "source": [
    "print('I`m OK.')"
   ]
  },
  {
   "cell_type": "markdown",
   "metadata": {},
   "source": [
    "#(已运行ex1.py 脚本文件；交互模式已完成)"
   ]
  },
  {
   "cell_type": "markdown",
   "metadata": {},
   "source": [
    "# $2.8 练习1 打印n!"
   ]
  },
  {
   "cell_type": "code",
   "execution_count": 6,
   "metadata": {},
   "outputs": [
    {
     "name": "stdout",
     "output_type": "stream",
     "text": [
      "请输入一个正整数，以回车结束。6\n",
      "720\n"
     ]
    }
   ],
   "source": [
    "n = int(input('请输入一个正整数，以回车结束。'))\n",
    "\n",
    "i = 1\n",
    "product = 1\n",
    "\n",
    "while i < n:\n",
    "    i = i + 1\n",
    "    product = product * i\n",
    "    \n",
    "print(product)"
   ]
  },
  {
   "cell_type": "markdown",
   "metadata": {},
   "source": [
    "# 实践1 键入如下代码并观察执行结果。"
   ]
  },
  {
   "cell_type": "code",
   "execution_count": 9,
   "metadata": {},
   "outputs": [
    {
     "name": "stdout",
     "output_type": "stream",
     "text": [
      "请输入你的姓名，以回车结束。杨丽雪\n",
      "你好 杨丽雪\n",
      "请输入一个正整数，以回车结束。3\n",
      "请输入一个正整数，以回车结束。5\n",
      "两个数的和是： 8\n",
      "再见！ 杨丽雪\n"
     ]
    }
   ],
   "source": [
    "name = input('请输入你的姓名，以回车结束。')\n",
    "print('你好', name)\n",
    "\n",
    "n = int(input('请输入一个正整数，以回车结束。'))\n",
    "m = int(input('请输入一个正整数，以回车结束。'))\n",
    "\n",
    "print('两个数的和是：', m+n)\n",
    "print('再见！', name)"
   ]
  },
  {
   "cell_type": "markdown",
   "metadata": {},
   "source": [
    "# 练习2 写出由用户指定整数个数，并由用户输入多个整数，并求和的代码。"
   ]
  },
  {
   "cell_type": "code",
   "execution_count": 10,
   "metadata": {},
   "outputs": [
    {
     "name": "stdout",
     "output_type": "stream",
     "text": [
      "请输入你所求和的整数个数，以回车结束。3\n",
      "请输入一个正整数，以回车结束。1\n",
      "请输入一个正整数，以回车结束。2\n",
      "请输入一个正整数，以回车结束。3\n",
      "n个数的和是： 6\n"
     ]
    }
   ],
   "source": [
    "number = int(input('请输入你所求和的整数个数，以回车结束。'))\n",
    "n = number\n",
    "\n",
    "i = 0\n",
    "total = 0\n",
    "while i < n:\n",
    "    i = i + 1\n",
    "    m = int(input('请输入一个正整数，以回车结束。'))\n",
    "    total = total + m\n",
    "\n",
    "print('n个数的和是：', total)"
   ]
  },
  {
   "cell_type": "markdown",
   "metadata": {},
   "source": [
    "# 练习3：用户可以输入的任意多个数字，直到用户不想输入为止。"
   ]
  },
  {
   "cell_type": "code",
   "execution_count": 14,
   "metadata": {},
   "outputs": [
    {
     "name": "stdout",
     "output_type": "stream",
     "text": [
      "请输入一个正整数，并回车；若要停止输入，请输入q。1\n",
      "请输入一个正整数，并回车；若要停止输入，请输入q。92\n",
      "请输入一个正整数，并回车；若要停止输入，请输入q。4\n",
      "请输入一个正整数，并回车；若要停止输入，请输入q。7\n",
      "请输入一个正整数，并回车；若要停止输入，请输入q。0\n",
      "请输入一个正整数，并回车；若要停止输入，请输入q。q\n"
     ]
    }
   ],
   "source": [
    "m = input('请输入一个正整数，并回车；若要停止输入，请输入q。')\n",
    "while m != 'q':\n",
    "    m = input('请输入一个正整数，并回车；若要停止输入，请输入q。')\n",
    "if m == 'q':\n",
    "    exit()"
   ]
  },
  {
   "cell_type": "markdown",
   "metadata": {},
   "source": [
    "# 练习4：用户可以输入的任意多个数字，直到输入所有数字的和比当前输入数字小，且输入所有数字的积比当前输入数字的平方大。"
   ]
  },
  {
   "cell_type": "code",
   "execution_count": null,
   "metadata": {},
   "outputs": [
    {
     "name": "stdout",
     "output_type": "stream",
     "text": [
      "pls input a positive number:9\n",
      "pls input a positive number:407\n",
      "pls input a positive number:367\n",
      "pls input a positive number:837\n"
     ]
    }
   ],
   "source": [
    "total = 0\n",
    "product = 1\n",
    "m = int(input('pls input a positive number:'))\n",
    "square = m * m\n",
    "while 1:\n",
    "    if total < m and product > square:\n",
    "        exit()\n",
    "    \n",
    "    total = total + m\n",
    "    product = product * m\n",
    "    square = m * m\n",
    "    m = int(input('pls input a positive number:'))"
   ]
  },
  {
   "cell_type": "markdown",
   "metadata": {
    "collapsed": true
   },
   "source": [
    "#练习4的代码用记事本脚本模式运行是可以exit，但奇怪在这里面它为什么不停止？"
   ]
  },
  {
   "cell_type": "code",
   "execution_count": 2,
   "metadata": {},
   "outputs": [
    {
     "name": "stdout",
     "output_type": "stream",
     "text": [
      "多个参数,5,69,1.0\n"
     ]
    }
   ],
   "source": [
    "print('多个参数', 5, 4078%211, 407.8//211, sep = ',')"
   ]
  },
  {
   "cell_type": "code",
   "execution_count": 3,
   "metadata": {},
   "outputs": [
    {
     "name": "stdout",
     "output_type": "stream",
     "text": [
      "多个参数  5  69  1.0\n"
     ]
    }
   ],
   "source": [
    "print('多个参数', 5, 4078%211, 407.8//211, sep = '  ')"
   ]
  },
  {
   "cell_type": "markdown",
   "metadata": {},
   "source": [
    "# $3.6 练习1 由键盘读入用户姓名例如Mr. right，让用户输入出生的月份与日期，判断用户星座，假设用户是金牛座，则输出，Mr. right，你是非常有性格的金牛座！。"
   ]
  },
  {
   "cell_type": "code",
   "execution_count": 16,
   "metadata": {},
   "outputs": [
    {
     "name": "stdout",
     "output_type": "stream",
     "text": [
      "请输入你的姓名，以回车结束。杨丽雪\n",
      "请输入你出生的月份，以回车结束。12\n",
      "请输入你出生的日期，以回车结束。28\n",
      "杨丽雪 谨慎谦逊摩羯座\n"
     ]
    }
   ],
   "source": [
    "name = input('请输入你的姓名，以回车结束。')\n",
    "month = int(input('请输入你出生的月份，以回车结束。'))\n",
    "day = int(input('请输入你出生的日期，以回车结束。'))\n",
    "if (month == 12 and day >= 22) or (month == 1 and day <= 19):\n",
    "    print(name,'谨慎谦逊摩羯座')\n",
    "elif (month == 1 and day >= 20) or (month == 2 and day <= 18):\n",
    "    print(name,'创意十足水瓶座')\n",
    "elif (month == 2 and day >= 19) or (month == 3 and day <= 20):\n",
    "    print(name,'善解人意双鱼座')\n",
    "elif (month == 3 and day >= 21) or (month == 4 and day <= 19):\n",
    "    print(name,'坦白率真白羊座')\n",
    "elif (month == 4 and day >= 20) or (month == 5 and day <= 20):\n",
    "    print(name,'脚踏实地金牛座')\n",
    "elif (month == 5 and day >= 21) or (month == 6 and day <= 21):\n",
    "    print(name,'足智多谋双子座')\n",
    "elif (month == 6 and day >= 22) or (month == 7 and day <= 22):\n",
    "    print(name,'亲切温暖巨蟹座')\n",
    "elif (month == 7 and day >= 23) or (month == 8 and day <= 22):\n",
    "    print(name,'热情开朗狮子座')\n",
    "elif (month == 8 and day >= 23) or (month == 9 and day <= 22):\n",
    "    print(name,'勤奋努力处女座')\n",
    "elif (month == 9 and day >= 23) or (month == 10 and day <= 23):\n",
    "    print(name,'能屈能伸天秤座')\n",
    "elif (month == 10 and day >= 24) or (month == 11 and day <= 22):\n",
    "    print(name,'深谋远虑天蝎座')\n",
    "elif (month == 11 and day >= 23) or (month == 12 and day <= 21):\n",
    "    print(name,'正直坦率射手座')\n",
    "else:\n",
    "    print('你好', name)"
   ]
  },
  {
   "cell_type": "markdown",
   "metadata": {},
   "source": [
    "# 练习2： 由键盘读入两个整数m与n(n不等于0)，询问用户意图，如果要求和则计算从m到n的和输出，如果要乘积则计算从m到n的积并输出，如果要求余数则计算m除以n的余数的值并输出，否则则计算m整除n的值并输出。"
   ]
  },
  {
   "cell_type": "code",
   "execution_count": 17,
   "metadata": {},
   "outputs": [
    {
     "name": "stdout",
     "output_type": "stream",
     "text": [
      "请输入一个正整数，以回车结束。6\n",
      "请输入一个正整数且不等于0，以回车结束。2\n",
      "你想做什么运算？请输入“求和”或“乘积”或“取余”或“整除”，以回车结束。整除\n",
      "整除为： 3\n"
     ]
    }
   ],
   "source": [
    "m = int(input('请输入一个正整数，以回车结束。'))\n",
    "n = int(input('请输入一个正整数且不等于0，以回车结束。'))\n",
    "op = input('你想做什么运算？请输入“求和”或“乘积”或“取余”或“整除”，以回车结束。')\n",
    "if (op == '求和'):\n",
    "    print('和为：',m+n)\n",
    "elif (op == '乘积'):\n",
    "    print('积为：',m*n)\n",
    "elif (op == '取余'):\n",
    "    print('余数为：',m%n)\n",
    "else:\n",
    "    print('整除为：',m//n)"
   ]
  },
  {
   "cell_type": "markdown",
   "metadata": {},
   "source": [
    "# 练习3： 根据北京雾霾PM2.5数值给出对应的防护建议。如当PM2.5数值大于500，则应该打开空气净化器，戴防雾霾口罩等。"
   ]
  },
  {
   "cell_type": "code",
   "execution_count": 19,
   "metadata": {},
   "outputs": [
    {
     "name": "stdout",
     "output_type": "stream",
     "text": [
      "请输入北京雾霾PM2.5值，以回车结束。17\n",
      "优，空气很好，可以外出活动，呼吸新鲜空气。\n"
     ]
    }
   ],
   "source": [
    "PM = int(input('请输入北京雾霾PM2.5值，以回车结束。'))\n",
    "if PM > 0 and PM <=50:\n",
    "    print('优，空气很好，可以外出活动，呼吸新鲜空气。')\n",
    "elif PM > 50 and PM <= 100:\n",
    "    print('良，可以正常在户外活动，易敏感人群应减少外出。')\n",
    "elif PM > 100 and PM <=150:\n",
    "    print('轻度污染，敏感人群减少体力消耗大的户外活动')\n",
    "elif PM > 150 and PM <=200:\n",
    "    print('中度污染，对敏感人群影响较大')\n",
    "elif PM > 200 and PM <= 300:\n",
    "    print('重度污染，所有人应适当减少室外活动')\n",
    "elif PM > 300 and PM <= 500:\n",
    "    print('严重污染，尽量不要留在室外')\n",
    "elif PM > 500:\n",
    "    print('非常严重，应该打开空气净化器，戴防雾霾口罩')"
   ]
  },
  {
   "cell_type": "markdown",
   "metadata": {},
   "source": [
    "# 练习 4：英文单词单数转复数；提示，some_string.endswith(some_letter)函数可以判断某字符串结尾字符"
   ]
  },
  {
   "cell_type": "code",
   "execution_count": 29,
   "metadata": {},
   "outputs": [
    {
     "name": "stdout",
     "output_type": "stream",
     "text": [
      "请输入一个英文动词（单数形式），以回车结束。leaf\n",
      "改 f 或 fe为 ve，再加 s\n"
     ]
    }
   ],
   "source": [
    "word = input('请输入一个英文动词（单数形式），以回车结束。')\n",
    "if word.endswith('s') or word.endswith('x') or word.endswith('z') or word.endswith('ch') or word.endswith('sh'):\n",
    "    print (word,'es',sep = '')\n",
    "elif word.endswith('f') or word.endswith('fe'):\n",
    "    print('改 f 或 fe为 ve，再加 s')\n",
    "elif word.endswith('y'):\n",
    "    trans = word.maketrans('y','i')\n",
    "    print(word.translate(trans),'es',sep = '')\n",
    "elif word.endswith('o'):\n",
    "    if word == 'hero' or word == 'tomato' or word == 'potato':\n",
    "        print (word,'es',sep = '')\n",
    "else:\n",
    "    print (word,'s',sep = '')"
   ]
  },
  {
   "cell_type": "markdown",
   "metadata": {},
   "source": [
    "# 尝试性练习：写程序，能够在屏幕上显示空行。"
   ]
  },
  {
   "cell_type": "code",
   "execution_count": 34,
   "metadata": {},
   "outputs": [
    {
     "name": "stdout",
     "output_type": "stream",
     "text": [
      "begin\n",
      "\n",
      "end\n"
     ]
    }
   ],
   "source": [
    "print('begin')\n",
    "print()\n",
    "print('end')"
   ]
  },
  {
   "cell_type": "markdown",
   "metadata": {},
   "source": [
    "# 挑战性练习：写程序，由用户输入一些整数，能够得到几个整数中的次大值(第二大的值)并输出。"
   ]
  },
  {
   "cell_type": "code",
   "execution_count": 43,
   "metadata": {},
   "outputs": [
    {
     "name": "stdout",
     "output_type": "stream",
     "text": [
      "请输入要输入的整数个数，回车结束。4\n",
      "请输入一个整数，回车结束1\n",
      "请输入一个整数，回车结束20\n",
      "请输入一个整数，回车结束4\n",
      "请输入一个整数，回车结束6\n",
      "从大到小排序： [20, 6, 4, 1]\n",
      "次大值是： 6\n"
     ]
    }
   ],
   "source": [
    "m = int(input('请输入要输入的整数个数，回车结束。'))\n",
    "\n",
    "alist = []\n",
    "\n",
    "i = 0\n",
    "while i < m:\n",
    "    i += 1\n",
    "    n = int(input('请输入一个整数，回车结束'))\n",
    "    alist.append(n)\n",
    "alist.sort(reverse = True)\n",
    "print('从大到小排序：',alist)\n",
    "del alist[0]\n",
    "print('次大值是：', max(alist))"
   ]
  },
  {
   "cell_type": "markdown",
   "metadata": {},
   "source": [
    "###### "
   ]
  }
 ],
 "metadata": {
  "kernelspec": {
   "display_name": "Python 3",
   "language": "python",
   "name": "python3"
  },
  "language_info": {
   "codemirror_mode": {
    "name": "ipython",
    "version": 3
   },
   "file_extension": ".py",
   "mimetype": "text/x-python",
   "name": "python",
   "nbconvert_exporter": "python",
   "pygments_lexer": "ipython3",
   "version": "3.6.1"
  }
 },
 "nbformat": 4,
 "nbformat_minor": 2
}
