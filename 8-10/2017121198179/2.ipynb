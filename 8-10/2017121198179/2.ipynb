{
 "cells": [
  {
   "cell_type": "code",
   "execution_count": 3,
   "metadata": {},
   "outputs": [
    {
     "name": "stdout",
     "output_type": "stream",
     "text": [
      "请输入一个正整数，以回车结束9\n",
      "362880\n"
     ]
    }
   ],
   "source": [
    "# 打印n!\n",
    "\n",
    "n = int(input(\"请输入一个正整数，以回车结束:\"))\n",
    "i = 1\n",
    "total = 1\n",
    "while i <= n:\n",
    "    total = total*i\n",
    "    i=i+1\n",
    "    \n",
    "print(total)"
   ]
  },
  {
   "cell_type": "code",
   "execution_count": 6,
   "metadata": {},
   "outputs": [
    {
     "name": "stdout",
     "output_type": "stream",
     "text": [
      "请输入你的名字，以回车结束：dsfds\n",
      "你好 dsfds\n",
      "请输入一个正整数，以回车结束：5\n",
      "请输入一个正整数，以回车结束：65\n",
      "两个数的和是： 70\n",
      "再见! dsfds\n"
     ]
    }
   ],
   "source": [
    "# 实践1\n",
    "\n",
    "name = input(\"请输入你的名字，以回车结束：\")\n",
    "print (\"你好，\",name)\n",
    "\n",
    "n = int(input(\"请输入一个正整数，以回车结束：\"))\n",
    "m = int(input(\"请输入一个正整数，以回车结束：\"))\n",
    "print (\"两个数的和是：\",n+m)\n",
    "print (\"再见！\",name)\n"
   ]
  },
  {
   "cell_type": "code",
   "execution_count": 11,
   "metadata": {},
   "outputs": [
    {
     "name": "stdout",
     "output_type": "stream",
     "text": [
      "请输入正整数个数，以回车结束：3\n",
      "请输入正整数，以回车结束：1\n",
      "请输入正整数，以回车结束：2\n",
      "请输入正整数，以回车结束：3\n",
      "6\n"
     ]
    }
   ],
   "source": [
    "# 仿照实践1，指定整数个数并输入整数，求和\n",
    "\n",
    "num = int(input(\"请输入正整数个数，以回车结束：\"))\n",
    "i= 0\n",
    "total = 0\n",
    "while i < num :\n",
    "    a = int(input(\"请输入正整数，以回车结束：\"))\n",
    "    total = a+total\n",
    "    i = i+1\n",
    "\n",
    "print (total)"
   ]
  },
  {
   "cell_type": "code",
   "execution_count": 19,
   "metadata": {},
   "outputs": [
    {
     "name": "stdout",
     "output_type": "stream",
     "text": [
      "请输入一个正整数，输入“0”时结束：32\n",
      "32\n",
      "请输入一个正整数，输入“0”时结束：5\n",
      "5\n",
      "请输入一个正整数，输入“0”时结束：2\n",
      "2\n",
      "请输入一个正整数，输入“0”时结束：6\n",
      "6\n",
      "请输入一个正整数，输入“0”时结束：7\n",
      "7\n",
      "请输入一个正整数，输入“0”时结束：23\n",
      "23\n",
      "请输入一个正整数，输入“0”时结束：0\n"
     ]
    }
   ],
   "source": [
    "# 输入任意个数字，直到不想输为止\n",
    "while True :\n",
    "    a = int(input(\"请输入一个正整数，输入“0”时结束：\"))\n",
    "    if a == 0 :\n",
    "        break\n",
    "    else :\n",
    "        print (a)\n"
   ]
  },
  {
   "cell_type": "code",
   "execution_count": null,
   "metadata": {},
   "outputs": [],
   "source": [
    "# 用户可以输入的任意多个数字，直到输入所有数字的和比当前输入数字小，且输入所有数字的积比当前输入数字的平方大\n",
    "total = 0\n",
    "multiply = 1\n",
    "while True :\n",
    "    a = int(input(\"请输入一个正整数:\"))\n",
    "    total = total + a\n",
    "    multiply = a*multiply\n",
    "    print (\"整数和是：\"，total)\n",
    "    print (\"乘积是：\"，multiply)\n",
    "    if total < a and multiply > a*a :\n",
    "        break"
   ]
  },
  {
   "cell_type": "code",
   "execution_count": null,
   "metadata": {
    "collapsed": true
   },
   "outputs": [],
   "source": []
  },
  {
   "cell_type": "code",
   "execution_count": null,
   "metadata": {
    "collapsed": true
   },
   "outputs": [],
   "source": []
  },
  {
   "cell_type": "code",
   "execution_count": null,
   "metadata": {
    "collapsed": true
   },
   "outputs": [],
   "source": []
  },
  {
   "cell_type": "code",
   "execution_count": null,
   "metadata": {
    "collapsed": true
   },
   "outputs": [],
   "source": []
  },
  {
   "cell_type": "code",
   "execution_count": null,
   "metadata": {
    "collapsed": true
   },
   "outputs": [],
   "source": []
  },
  {
   "cell_type": "code",
   "execution_count": null,
   "metadata": {
    "collapsed": true
   },
   "outputs": [],
   "source": []
  },
  {
   "cell_type": "code",
   "execution_count": null,
   "metadata": {
    "collapsed": true
   },
   "outputs": [],
   "source": []
  },
  {
   "cell_type": "markdown",
   "metadata": {},
   "source": [
    "#### "
   ]
  },
  {
   "cell_type": "code",
   "execution_count": null,
   "metadata": {
    "collapsed": true
   },
   "outputs": [],
   "source": []
  },
  {
   "cell_type": "code",
   "execution_count": null,
   "metadata": {
    "collapsed": true
   },
   "outputs": [],
   "source": []
  },
  {
   "cell_type": "code",
   "execution_count": null,
   "metadata": {
    "collapsed": true
   },
   "outputs": [],
   "source": []
  },
  {
   "cell_type": "code",
   "execution_count": null,
   "metadata": {
    "collapsed": true
   },
   "outputs": [],
   "source": []
  },
  {
   "cell_type": "code",
   "execution_count": null,
   "metadata": {
    "collapsed": true
   },
   "outputs": [],
   "source": []
  },
  {
   "cell_type": "code",
   "execution_count": null,
   "metadata": {
    "collapsed": true
   },
   "outputs": [],
   "source": []
  },
  {
   "cell_type": "code",
   "execution_count": null,
   "metadata": {
    "collapsed": true
   },
   "outputs": [],
   "source": []
  },
  {
   "cell_type": "code",
   "execution_count": null,
   "metadata": {
    "collapsed": true
   },
   "outputs": [],
   "source": []
  },
  {
   "cell_type": "markdown",
   "metadata": {},
   "source": [
    "### "
   ]
  },
  {
   "cell_type": "code",
   "execution_count": null,
   "metadata": {
    "collapsed": true
   },
   "outputs": [],
   "source": []
  },
  {
   "cell_type": "code",
   "execution_count": null,
   "metadata": {
    "collapsed": true
   },
   "outputs": [],
   "source": []
  },
  {
   "cell_type": "code",
   "execution_count": null,
   "metadata": {
    "collapsed": true
   },
   "outputs": [],
   "source": []
  },
  {
   "cell_type": "code",
   "execution_count": null,
   "metadata": {
    "collapsed": true
   },
   "outputs": [],
   "source": []
  },
  {
   "cell_type": "code",
   "execution_count": null,
   "metadata": {
    "collapsed": true
   },
   "outputs": [],
   "source": []
  },
  {
   "cell_type": "code",
   "execution_count": null,
   "metadata": {
    "collapsed": true
   },
   "outputs": [],
   "source": []
  },
  {
   "cell_type": "code",
   "execution_count": null,
   "metadata": {
    "collapsed": true
   },
   "outputs": [],
   "source": []
  }
 ],
 "metadata": {
  "kernelspec": {
   "display_name": "Python 3",
   "language": "python",
   "name": "python3"
  },
  "language_info": {
   "codemirror_mode": {
    "name": "ipython",
    "version": 3
   },
   "file_extension": ".py",
   "mimetype": "text/x-python",
   "name": "python",
   "nbconvert_exporter": "python",
   "pygments_lexer": "ipython3",
   "version": "3.6.2"
  }
 },
 "nbformat": 4,
 "nbformat_minor": 2
}
