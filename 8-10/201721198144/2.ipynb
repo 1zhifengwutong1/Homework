{
 "cells": [
  {
   "cell_type": "code",
   "execution_count": null,
   "metadata": {
    "collapsed": true
   },
   "outputs": [],
   "source": [
    "# 练习1：仿照任务2完整代码，打印n!\n",
    "n = int(input(\"pls enter a num : \"))\n",
    "mul = 1\n",
    "i = 0\n",
    "while i < n:\n",
    "\ti = i +1\n",
    "\tmul = mul*i\n",
    "\t\n",
    "print (\"the mul is :\", mul)\n",
    "\n",
    "#practice 2 由用户指定整数个数，并由用户输入多个整数，并求和\n",
    "n = int(input(\"how many num you want to count? \"))\n",
    "i = 0\n",
    "total = 0\n",
    "while i<n:\n",
    "\ta = int(input(\"pls enter a number: \"))\n",
    "\ttotal = total + a\n",
    "\ti = i + 1\n",
    "print (\"there are \",n,\"numbers, the sum is : \",total)\n",
    "\n",
    "#practice 3 用户可以输入的任意多个数字，直到用户不想输入为止\n",
    "while 1:\n",
    "\tnum = input(\"pls enter a number('q' to quit): \")\n",
    "\tif num == 'q':\n",
    "\t\tprint (\"see you ! \")\n",
    "\t\tbreak\n",
    "\telse:\n",
    "\t\tprint (\"the number is: \",num)\n",
    "        \n",
    "#practice 4 :用户可以输入的任意多个数字，直到: 输入所有数字的和比当前输入数字小，且输入所有数字的积大于500。\n",
    "total = 0\n",
    "mul = 1\n",
    "\n",
    "while 1 :\n",
    "\tnum = input(\"pls enter a num('q'to quit): \")\n",
    "\tif num == 'q':\n",
    "\t\tprint (\"see you !\")\n",
    "\t\tbreak\n",
    "\telse:\n",
    "\t\tnum = int(num)\n",
    "\t\tif total < num and mul >500:\n",
    "\t\t\tprint (\"the sum is larger than the num & the mul is larger than 500\")\n",
    "\t\t\tprint (\"total: \",total,\"mul:\",mul)\n",
    "\t\t\tbreak\n",
    "\t\telse:\n",
    "\t\t\ttotal = num + total\n",
    "\t\t\tmul = mul*num\n",
    "\t\t\tprint (\"pls go on!\")\n",
    "\t\t\tprint (\"total: \",total,\"mul:\",mul)\n",
    "\n"
   ]
  }
 ],
 "metadata": {
  "kernelspec": {
   "display_name": "Python 3",
   "language": "python",
   "name": "python3"
  },
  "language_info": {
   "codemirror_mode": {
    "name": "ipython",
    "version": 3
   },
   "file_extension": ".py",
   "mimetype": "text/x-python",
   "name": "python",
   "nbconvert_exporter": "python",
   "pygments_lexer": "ipython3",
   "version": "3.6.2"
  }
 },
 "nbformat": 4,
 "nbformat_minor": 2
}
